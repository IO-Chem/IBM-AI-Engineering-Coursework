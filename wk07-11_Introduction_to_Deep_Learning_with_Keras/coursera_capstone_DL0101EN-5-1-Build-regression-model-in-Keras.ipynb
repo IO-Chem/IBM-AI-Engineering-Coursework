{
 "cells": [
  {
   "cell_type": "markdown",
   "metadata": {},
   "source": [
    "## Import Required Libraries"
   ]
  },
  {
   "cell_type": "code",
   "execution_count": 1,
   "metadata": {},
   "outputs": [],
   "source": [
    "import requests\n",
    "from pathlib import Path\n",
    "\n",
    "import pandas as pd\n",
    "import numpy as np\n",
    "from sklearn.preprocessing import Normalizer\n",
    "from sklearn.model_selection import train_test_split\n",
    "from sklearn.metrics import mean_squared_error\n",
    "from keras.models import Sequential\n",
    "from keras.layers import Dense"
   ]
  },
  {
   "cell_type": "markdown",
   "metadata": {},
   "source": [
    "## Import Data\n",
    "Dowload data from url if file is not present on machine"
   ]
  },
  {
   "cell_type": "code",
   "execution_count": 2,
   "metadata": {},
   "outputs": [],
   "source": [
    "cwd = Path.cwd()\n",
    "filename = 'concrete_data.csv'\n",
    "files = list()\n",
    "\n",
    "# Get list of all files in working directory\n",
    "for pth in cwd.iterdir():\n",
    "    if pth.is_file():\n",
    "        files += [pth.name]\n",
    "\n",
    "# Download file if not found in list\n",
    "if filename not in files:\n",
    "    csv_file = open(filename, 'wb')\n",
    "    file_data = requests.get('https://cocl.us/concrete_data').content\n",
    "    csv_file.write(file_data)\n",
    "    csv_file.close()"
   ]
  },
  {
   "cell_type": "markdown",
   "metadata": {},
   "source": [
    "## Load Data\n",
    "Load into pandas and check for any issues or inconsistencies"
   ]
  },
  {
   "cell_type": "code",
   "execution_count": 3,
   "metadata": {},
   "outputs": [
    {
     "name": "stdout",
     "output_type": "stream",
     "text": [
      "Shape of df: 1030r x 9c\n",
      "\n",
      "Null Value Check\n",
      "================\n",
      "Cement                0\n",
      "Blast Furnace Slag    0\n",
      "Fly Ash               0\n",
      "Water                 0\n",
      "Superplasticizer      0\n",
      "Coarse Aggregate      0\n",
      "Fine Aggregate        0\n",
      "Age                   0\n",
      "Strength              0\n",
      "dtype: int64\n",
      "\n"
     ]
    },
    {
     "data": {
      "text/html": [
       "<div>\n",
       "<style scoped>\n",
       "    .dataframe tbody tr th:only-of-type {\n",
       "        vertical-align: middle;\n",
       "    }\n",
       "\n",
       "    .dataframe tbody tr th {\n",
       "        vertical-align: top;\n",
       "    }\n",
       "\n",
       "    .dataframe thead th {\n",
       "        text-align: right;\n",
       "    }\n",
       "</style>\n",
       "<table border=\"1\" class=\"dataframe\">\n",
       "  <thead>\n",
       "    <tr style=\"text-align: right;\">\n",
       "      <th></th>\n",
       "      <th>Cement</th>\n",
       "      <th>Blast Furnace Slag</th>\n",
       "      <th>Fly Ash</th>\n",
       "      <th>Water</th>\n",
       "      <th>Superplasticizer</th>\n",
       "      <th>Coarse Aggregate</th>\n",
       "      <th>Fine Aggregate</th>\n",
       "      <th>Age</th>\n",
       "      <th>Strength</th>\n",
       "    </tr>\n",
       "  </thead>\n",
       "  <tbody>\n",
       "    <tr>\n",
       "      <th>count</th>\n",
       "      <td>1030.000000</td>\n",
       "      <td>1030.000000</td>\n",
       "      <td>1030.000000</td>\n",
       "      <td>1030.000000</td>\n",
       "      <td>1030.000000</td>\n",
       "      <td>1030.000000</td>\n",
       "      <td>1030.000000</td>\n",
       "      <td>1030.000000</td>\n",
       "      <td>1030.000000</td>\n",
       "    </tr>\n",
       "    <tr>\n",
       "      <th>mean</th>\n",
       "      <td>281.167864</td>\n",
       "      <td>73.895825</td>\n",
       "      <td>54.188350</td>\n",
       "      <td>181.567282</td>\n",
       "      <td>6.204660</td>\n",
       "      <td>972.918932</td>\n",
       "      <td>773.580485</td>\n",
       "      <td>45.662136</td>\n",
       "      <td>35.817961</td>\n",
       "    </tr>\n",
       "    <tr>\n",
       "      <th>std</th>\n",
       "      <td>104.506364</td>\n",
       "      <td>86.279342</td>\n",
       "      <td>63.997004</td>\n",
       "      <td>21.354219</td>\n",
       "      <td>5.973841</td>\n",
       "      <td>77.753954</td>\n",
       "      <td>80.175980</td>\n",
       "      <td>63.169912</td>\n",
       "      <td>16.705742</td>\n",
       "    </tr>\n",
       "    <tr>\n",
       "      <th>min</th>\n",
       "      <td>102.000000</td>\n",
       "      <td>0.000000</td>\n",
       "      <td>0.000000</td>\n",
       "      <td>121.800000</td>\n",
       "      <td>0.000000</td>\n",
       "      <td>801.000000</td>\n",
       "      <td>594.000000</td>\n",
       "      <td>1.000000</td>\n",
       "      <td>2.330000</td>\n",
       "    </tr>\n",
       "    <tr>\n",
       "      <th>25%</th>\n",
       "      <td>192.375000</td>\n",
       "      <td>0.000000</td>\n",
       "      <td>0.000000</td>\n",
       "      <td>164.900000</td>\n",
       "      <td>0.000000</td>\n",
       "      <td>932.000000</td>\n",
       "      <td>730.950000</td>\n",
       "      <td>7.000000</td>\n",
       "      <td>23.710000</td>\n",
       "    </tr>\n",
       "    <tr>\n",
       "      <th>50%</th>\n",
       "      <td>272.900000</td>\n",
       "      <td>22.000000</td>\n",
       "      <td>0.000000</td>\n",
       "      <td>185.000000</td>\n",
       "      <td>6.400000</td>\n",
       "      <td>968.000000</td>\n",
       "      <td>779.500000</td>\n",
       "      <td>28.000000</td>\n",
       "      <td>34.445000</td>\n",
       "    </tr>\n",
       "    <tr>\n",
       "      <th>75%</th>\n",
       "      <td>350.000000</td>\n",
       "      <td>142.950000</td>\n",
       "      <td>118.300000</td>\n",
       "      <td>192.000000</td>\n",
       "      <td>10.200000</td>\n",
       "      <td>1029.400000</td>\n",
       "      <td>824.000000</td>\n",
       "      <td>56.000000</td>\n",
       "      <td>46.135000</td>\n",
       "    </tr>\n",
       "    <tr>\n",
       "      <th>max</th>\n",
       "      <td>540.000000</td>\n",
       "      <td>359.400000</td>\n",
       "      <td>200.100000</td>\n",
       "      <td>247.000000</td>\n",
       "      <td>32.200000</td>\n",
       "      <td>1145.000000</td>\n",
       "      <td>992.600000</td>\n",
       "      <td>365.000000</td>\n",
       "      <td>82.600000</td>\n",
       "    </tr>\n",
       "  </tbody>\n",
       "</table>\n",
       "</div>"
      ],
      "text/plain": [
       "            Cement  Blast Furnace Slag      Fly Ash        Water  \\\n",
       "count  1030.000000         1030.000000  1030.000000  1030.000000   \n",
       "mean    281.167864           73.895825    54.188350   181.567282   \n",
       "std     104.506364           86.279342    63.997004    21.354219   \n",
       "min     102.000000            0.000000     0.000000   121.800000   \n",
       "25%     192.375000            0.000000     0.000000   164.900000   \n",
       "50%     272.900000           22.000000     0.000000   185.000000   \n",
       "75%     350.000000          142.950000   118.300000   192.000000   \n",
       "max     540.000000          359.400000   200.100000   247.000000   \n",
       "\n",
       "       Superplasticizer  Coarse Aggregate  Fine Aggregate          Age  \\\n",
       "count       1030.000000       1030.000000     1030.000000  1030.000000   \n",
       "mean           6.204660        972.918932      773.580485    45.662136   \n",
       "std            5.973841         77.753954       80.175980    63.169912   \n",
       "min            0.000000        801.000000      594.000000     1.000000   \n",
       "25%            0.000000        932.000000      730.950000     7.000000   \n",
       "50%            6.400000        968.000000      779.500000    28.000000   \n",
       "75%           10.200000       1029.400000      824.000000    56.000000   \n",
       "max           32.200000       1145.000000      992.600000   365.000000   \n",
       "\n",
       "          Strength  \n",
       "count  1030.000000  \n",
       "mean     35.817961  \n",
       "std      16.705742  \n",
       "min       2.330000  \n",
       "25%      23.710000  \n",
       "50%      34.445000  \n",
       "75%      46.135000  \n",
       "max      82.600000  "
      ]
     },
     "execution_count": 3,
     "metadata": {},
     "output_type": "execute_result"
    }
   ],
   "source": [
    "concrete_data = pd.read_csv(filename)\n",
    "print(f\"Shape of df: {concrete_data.shape[0]}r x {concrete_data.shape[1]}c\\n\")\n",
    "print(\"Null Value Check\")\n",
    "print(\"================\")\n",
    "print(concrete_data.isnull().sum())\n",
    "print()\n",
    "concrete_data.describe()"
   ]
  },
  {
   "cell_type": "markdown",
   "metadata": {},
   "source": [
    "***\n",
    "# Part A:\n",
    "Build a baseline model"
   ]
  },
  {
   "cell_type": "markdown",
   "metadata": {},
   "source": [
    "## Data Preprocessing\n",
    "\n",
    "Separate predictors from target(s) and then split 30% of data for testing.\n",
    "\n",
    "Normalize the training predictors after splitting and use that fit to normalize test predictors."
   ]
  },
  {
   "cell_type": "code",
   "execution_count": 4,
   "metadata": {},
   "outputs": [],
   "source": [
    "# Separate predictors from target columns \n",
    "columns = concrete_data.columns\n",
    "X = concrete_data[columns[columns != 'Strength']]\n",
    "y = concrete_data['Strength']\n",
    "\n",
    "# Preprocess pipeline, training set is randomized on each function call\n",
    "def preprocess(X, y, normalize=False):\n",
    "\n",
    "    if normalize == True:\n",
    "        \"\"\" The Normalizer class returns a signficantly greater MSE value when it's used\"\"\"\n",
    "        # X = Normalizer().fit_transform(X)\n",
    "        \n",
    "        # Normalization works as expected when calculating the values\n",
    "        X = (X - X.mean()) / X.std()\n",
    "    \n",
    "    # Retain 30% as test data with no random seed specified\n",
    "    X_train, X_test, y_train, y_test = train_test_split(\n",
    "        X,\n",
    "        y,\n",
    "        test_size=0.3)\n",
    "\n",
    "    proc_data = {\n",
    "        'X_train': X_train,\n",
    "        'X_test': X_test,\n",
    "        'y_train': y_train,\n",
    "        'y_test': y_test,\n",
    "    }\n",
    "    return proc_data\n",
    "\n",
    "proc_data = preprocess(X,y, normalize=False)"
   ]
  },
  {
   "cell_type": "markdown",
   "metadata": {},
   "source": [
    "## Define NN Architecture"
   ]
  },
  {
   "cell_type": "code",
   "execution_count": 5,
   "metadata": {},
   "outputs": [],
   "source": [
    "# Define baseline model\n",
    "def baseline_model():\n",
    "    # Create model\n",
    "    model = Sequential()\n",
    "\n",
    "    # Add hidden layer of 10 nodes\n",
    "    model.add(Dense(10, activation='relu', input_shape=(X.shape[1],)))\n",
    "    model.add(Dense(1))\n",
    "    \n",
    "    # Compile model\n",
    "    model.compile(optimizer='adam', loss='mean_squared_error')\n",
    "    return model"
   ]
  },
  {
   "cell_type": "markdown",
   "metadata": {},
   "source": [
    "## Model Training"
   ]
  },
  {
   "cell_type": "code",
   "execution_count": 6,
   "metadata": {},
   "outputs": [
    {
     "data": {
      "text/plain": [
       "<keras.callbacks.History at 0x1a77c1fe1c0>"
      ]
     },
     "execution_count": 6,
     "metadata": {},
     "output_type": "execute_result"
    }
   ],
   "source": [
    "model = baseline_model()\n",
    "model.fit(\n",
    "    proc_data['X_train'],\n",
    "    proc_data['y_train'],\n",
    "    epochs=50,\n",
    "    verbose=0)"
   ]
  },
  {
   "cell_type": "markdown",
   "metadata": {},
   "source": [
    "## Model Evaluation"
   ]
  },
  {
   "cell_type": "code",
   "execution_count": 7,
   "metadata": {},
   "outputs": [
    {
     "name": "stdout",
     "output_type": "stream",
     "text": [
      "loss: 273.46676636\n",
      " MSE: 273.46678944\n"
     ]
    }
   ],
   "source": [
    "# Evaluate model using test set and get MSE (loss) of model predictions\n",
    "loss = model.evaluate(\n",
    "    proc_data['X_test'],\n",
    "    proc_data['y_test'],\n",
    "    verbose=0)\n",
    "\n",
    "# Generate predictions from model using training set\n",
    "yhat = model.predict(proc_data['X_test'], verbose=0)\n",
    "# Calculate MSE of true and predicted values\n",
    "mse = mean_squared_error(proc_data['y_test'], yhat)\n",
    "print(f\"loss: {loss:.8f}\")\n",
    "print(f\" MSE: {mse:.8f}\")"
   ]
  },
  {
   "cell_type": "markdown",
   "metadata": {},
   "source": [
    "## Report MSE Statistics For Iterative Model Generation (n=50)"
   ]
  },
  {
   "cell_type": "code",
   "execution_count": 8,
   "metadata": {},
   "outputs": [],
   "source": [
    "def get_model_stats(model, n, normalize=False, epochs=50):\n",
    "    X = concrete_data[columns[columns != 'Strength']]\n",
    "    y = concrete_data['Strength']\n",
    "    mse_list = list()\n",
    "\n",
    "    for i in range(n):\n",
    "        # Generate random test train split and normalize inputs\n",
    "        proc_data = preprocess(X,y, normalize=normalize)\n",
    "\n",
    "        # Fit model to data set\n",
    "        model.fit(\n",
    "            proc_data['X_train'],\n",
    "            proc_data['y_train'],\n",
    "            epochs=epochs,\n",
    "            verbose=0)\n",
    "\n",
    "        # Generate predictions from model using training set\n",
    "        \"\"\"\n",
    "        Can also use the loss value returned from model.evaluate function\n",
    "        but the return value is *slightly* different!\n",
    "        \"\"\"\n",
    "        yhat = model.predict(proc_data['X_test'], verbose=0)\n",
    "        # Calculate MSE of true and predicted values\n",
    "        mse = mean_squared_error(proc_data['y_test'], yhat)\n",
    "\n",
    "        mse_list.append(mse)\n",
    "\n",
    "    # Convert to numpy array for mean and stdev calcs\n",
    "    mse_list = np.array(mse_list)\n",
    "\n",
    "    print(\"Baseline Model Prediction MSE Statistics\")\n",
    "    print(f\"            Mean value: {mse_list.mean():.2f}\")\n",
    "    print(f\"    Standard deviation: {mse_list.std():.2f}\")\n",
    "    print(f\"          sample size of n={mse_list.size}\")"
   ]
  },
  {
   "cell_type": "code",
   "execution_count": 12,
   "metadata": {},
   "outputs": [
    {
     "name": "stdout",
     "output_type": "stream",
     "text": [
      "Baseline Model Prediction MSE Statistics\n",
      "            Mean value: 82.13\n",
      "    Standard deviation: 89.22\n",
      "          sample size of n=50\n"
     ]
    }
   ],
   "source": [
    "model = baseline_model()\n",
    "get_model_stats(model, n=50)"
   ]
  },
  {
   "cell_type": "markdown",
   "metadata": {},
   "source": [
    "***\n",
    "# Part B:\n",
    "Normalize the data"
   ]
  },
  {
   "cell_type": "code",
   "execution_count": 13,
   "metadata": {},
   "outputs": [
    {
     "name": "stdout",
     "output_type": "stream",
     "text": [
      "Baseline Model Prediction MSE Statistics\n",
      "            Mean value: 45.61\n",
      "    Standard deviation: 46.30\n",
      "          sample size of n=50\n"
     ]
    }
   ],
   "source": [
    "model = baseline_model()\n",
    "get_model_stats(model, n=50, normalize=True)"
   ]
  },
  {
   "cell_type": "markdown",
   "metadata": {},
   "source": [
    "**How does the mean of the mean squared errors compare to that from Step A?**\n",
    "\n",
    "**A:** The mean MSE value decreased considerably when the data set was normalized"
   ]
  },
  {
   "cell_type": "markdown",
   "metadata": {},
   "source": [
    "***\n",
    "# Part C:\n",
    "Increase the number of epochs"
   ]
  },
  {
   "cell_type": "code",
   "execution_count": 14,
   "metadata": {},
   "outputs": [
    {
     "name": "stdout",
     "output_type": "stream",
     "text": [
      "Baseline Model Prediction MSE Statistics\n",
      "            Mean value: 42.34\n",
      "    Standard deviation: 23.08\n",
      "          sample size of n=50\n"
     ]
    }
   ],
   "source": [
    "model = baseline_model()\n",
    "get_model_stats(model, n=50, normalize=True, epochs=100)"
   ]
  },
  {
   "cell_type": "markdown",
   "metadata": {},
   "source": [
    "**How does the mean of the mean squared errors compare to that from Step B?**\n",
    "\n",
    "**A:** The mean did not change significantly"
   ]
  },
  {
   "cell_type": "markdown",
   "metadata": {},
   "source": [
    "***\n",
    "# Part D:\n",
    "Increase the number of hidden layers"
   ]
  },
  {
   "cell_type": "code",
   "execution_count": 15,
   "metadata": {},
   "outputs": [],
   "source": [
    "def multilayer_model(n_features, layers=1):\n",
    "    # Create model\n",
    "    model = Sequential()\n",
    "\n",
    "    # Add hidden layer of 10 nodes\n",
    "    model.add(Dense(10, activation='relu', input_shape=(n_features,)))\n",
    "    for i in range(layers-1):\n",
    "        model.add(Dense(10, activation='relu'))\n",
    "    model.add(Dense(1))\n",
    "    \n",
    "    # Compile model\n",
    "    model.compile(optimizer='adam', loss='mean_squared_error')\n",
    "    return model"
   ]
  },
  {
   "cell_type": "code",
   "execution_count": 16,
   "metadata": {},
   "outputs": [
    {
     "name": "stdout",
     "output_type": "stream",
     "text": [
      "Baseline Model Prediction MSE Statistics\n",
      "            Mean value: 34.22\n",
      "    Standard deviation: 20.11\n",
      "          sample size of n=50\n"
     ]
    }
   ],
   "source": [
    "model = multilayer_model(X.shape[1], layers=3)\n",
    "get_model_stats(model, n=50, normalize=True)"
   ]
  },
  {
   "cell_type": "markdown",
   "metadata": {},
   "source": [
    "**How does the mean of the mean squared errors compare to that from Step B?**\n",
    "\n",
    "**A:** The mean MSE value was lower than Part B without significantly increasing the training time of the model"
   ]
  }
 ],
 "metadata": {
  "kernelspec": {
   "display_name": "Python 3.9.12 ('base')",
   "language": "python",
   "name": "python3"
  },
  "language_info": {
   "codemirror_mode": {
    "name": "ipython",
    "version": 3
   },
   "file_extension": ".py",
   "mimetype": "text/x-python",
   "name": "python",
   "nbconvert_exporter": "python",
   "pygments_lexer": "ipython3",
   "version": "3.9.12"
  },
  "orig_nbformat": 4,
  "vscode": {
   "interpreter": {
    "hash": "14e3afb15ac44e2664096490493ad6a691703ac270da1f8198731e509d38cbac"
   }
  }
 },
 "nbformat": 4,
 "nbformat_minor": 2
}
